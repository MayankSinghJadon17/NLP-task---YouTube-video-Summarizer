{
 "cells": [
  {
   "cell_type": "code",
   "execution_count": 131,
   "id": "1a978807-242c-41a9-9283-07c0f682f26e",
   "metadata": {},
   "outputs": [],
   "source": [
    "import numpy as np\n",
    "import pandas as pd\n",
    "import nltk\n",
    "from youtube_transcript_api import YouTubeTranscriptApi"
   ]
  },
  {
   "cell_type": "code",
   "execution_count": 81,
   "id": "e2b1bcdb-b545-47c5-9424-c24a75c3cc16",
   "metadata": {},
   "outputs": [],
   "source": [
    "from sklearn.feature_extraction.text import TfidfVectorizer"
   ]
  },
  {
   "cell_type": "code",
   "execution_count": 115,
   "id": "f4cd8568-3d47-4fa1-af4e-71415b3daa08",
   "metadata": {},
   "outputs": [],
   "source": [
    "srt = YouTubeTranscriptApi.get_transcript(\"zPxdk9Y2a-w\")"
   ]
  },
  {
   "cell_type": "code",
   "execution_count": 116,
   "id": "055f698e-c79e-4f0e-836e-94d3d6eddf10",
   "metadata": {},
   "outputs": [
    {
     "name": "stdout",
     "output_type": "stream",
     "text": [
      "[{'text': 'prosecutors in Venezuela have threatened', 'start': 0.359, 'duration': 4.561}, {'text': 'to issue an arrest warrant for one of', 'start': 2.76, 'duration': 4.519}, {'text': 'the opposition presidential candidates', 'start': 4.92, 'duration': 4.759}, {'text': 'edmundo Gonzalez if he ignores the third', 'start': 7.279, 'duration': 4.48}, {'text': 'summons to appear for questioning on', 'start': 9.679, 'duration': 4.561}, {'text': 'Friday Mr Gonzalez has been called to', 'start': 11.759, 'duration': 5.161}, {'text': 'testify about his role in posting online', 'start': 14.24, 'duration': 4.799}, {'text': 'voting data that appears to show he did', 'start': 16.92, 'duration': 4.4}, {'text': \"win last month's election while\", 'start': 19.039, 'duration': 4.08}, {'text': 'meanwhile opposition supporters have', 'start': 21.32, 'duration': 4.08}, {'text': 'gathered in Caracus as their leader', 'start': 23.119, 'duration': 5.32}, {'text': 'Maria Karina Mado came out of hiding to', 'start': 25.4, 'duration': 5.959}, {'text': \"lead a protest against Venezuela's\", 'start': 28.439, 'duration': 4.8}, {'text': 'controversial election and the', 'start': 31.359, 'duration': 4.241}, {'text': 'reelection of President Nicholas Maduro', 'start': 33.239, 'duration': 5.201}, {'text': 'which has been widely denounced as a', 'start': 35.6, 'duration': 5.92}, {'text': 'fraudulent result the opposition claimed', 'start': 38.44, 'duration': 5.52}, {'text': 'they won a landslide in the election and', 'start': 41.52, 'duration': 5.039}, {'text': 'they say that Mr majiro has stolen', 'start': 43.96, 'duration': 5.4}, {'text': 'Victory from them president majiro has', 'start': 46.559, 'duration': 5.68}, {'text': 'cracked down on his opponents arresting', 'start': 49.36, 'duration': 4.999}, {'text': \"hundreds of them well I've been talking\", 'start': 52.239, 'duration': 4.64}, {'text': 'about the political crisis in Venezuela', 'start': 54.359, 'duration': 4.761}, {'text': 'to Francisco Rodriguez who is a', 'start': 56.879, 'duration': 4.2}, {'text': 'professor at the J Corbell School of', 'start': 59.12, 'duration': 4.279}, {'text': 'International Studies at the University', 'start': 61.079, 'duration': 4.36}, {'text': 'of Denver and author of a forthcoming', 'start': 63.399, 'duration': 4.08}, {'text': 'book scorched Earth the political', 'start': 65.439, 'duration': 4.521}, {'text': \"economy of Venezuela's claps but first\", 'start': 67.479, 'duration': 5.96}, {'text': 'BBC Mundo Angel Bermudez gave me an', 'start': 69.96, 'duration': 5.72}, {'text': 'update on the number of people who have', 'start': 73.439, 'duration': 6.241}, {'text': \"been arrested by Venezuela's Security\", 'start': 75.68, 'duration': 7.799}, {'text': 'Forces according to the NGO for almost', 'start': 79.68, 'duration': 6.64}, {'text': '1600 people have been arrested in', 'start': 83.479, 'duration': 5.921}, {'text': 'Venezuela since the election night they', 'start': 86.32, 'duration': 6.0}, {'text': 'say that it brings the number the total', 'start': 89.4, 'duration': 6.28}, {'text': 'number of people incarcerated in', 'start': 92.32, 'duration': 6.64}, {'text': 'Venezuela for political reasons up to', 'start': 95.68, 'duration': 7.6}, {'text': 'almost 1800 including 100 minors among', 'start': 98.96, 'duration': 6.72}, {'text': 'the detes there are several important', 'start': 103.28, 'duration': 6.4}, {'text': 'political figures like former MPS from', 'start': 105.68, 'duration': 4.92}, {'text': 'the', 'start': 109.68, 'duration': 3.719}, {'text': 'opposition Freddy superlano William', 'start': 110.6, 'duration': 6.479}, {'text': 'Davila americ Gracia and also close', 'start': 113.399, 'duration': 6.0}, {'text': 'collaborators to the opposition leader', 'start': 117.079, 'duration': 6.161}, {'text': 'Maria Mach like Perkins roacha who was a', 'start': 119.399, 'duration': 6.281}, {'text': 'spokesperson for her campaign and has', 'start': 123.24, 'duration': 4.239}, {'text': 'just been detained last', 'start': 125.68, 'duration': 4.919}, {'text': \"Wednesday so it's a big Crackdown does\", 'start': 127.479, 'duration': 7.881}, {'text': 'does it look like majiro has effectively', 'start': 130.599, 'duration': 4.761}, {'text': \"won well here's the thing one month\", 'start': 135.4, 'duration': 6.04}, {'text': 'after the election the political crisis', 'start': 138.959, 'duration': 5.681}, {'text': 'is still unresolved and the situation', 'start': 141.44, 'duration': 4.84}, {'text': 'seems to be at a', 'start': 144.64, 'duration': 5.36}, {'text': 'stalemate Maduro is you know the the', 'start': 146.28, 'duration': 6.52}, {'text': 'Electoral Council has not yet published', 'start': 150.0, 'duration': 4.84}, {'text': 'the detailed result of the', 'start': 152.8, 'duration': 4.92}, {'text': 'votes and a sentence by the Supreme', 'start': 154.84, 'duration': 5.84}, {'text': \"Court validating maduro's alleged\", 'start': 157.72, 'duration': 5.2}, {'text': 'victory has been dismissed by the', 'start': 160.68, 'duration': 5.479}, {'text': 'opposition but also important countries', 'start': 162.92, 'duration': 5.12}, {'text': 'left leading governments in Latin', 'start': 166.159, 'duration': 3.72}, {'text': 'America like the one led by Lula the', 'start': 168.04, 'duration': 4.6}, {'text': 'Sila in Brazil and the one led by Lopez', 'start': 169.879, 'duration': 5.841}, {'text': \"obor in Mexico they're still asking for\", 'start': 172.64, 'duration': 5.599}, {'text': 'the Venezuelan authorities to publish', 'start': 175.72, 'duration': 5.36}, {'text': 'the detailed results so so they can give', 'start': 178.239, 'duration': 4.681}, {'text': 'some credibility to the electoral', 'start': 181.08, 'duration': 4.6}, {'text': 'process okay uh Professor Francisco', 'start': 182.92, 'duration': 5.76}, {'text': 'Rodriguez can I ask you what is your', 'start': 185.68, 'duration': 5.32}, {'text': \"analysis of what's going on in Venezuela\", 'start': 188.68, 'duration': 5.839}, {'text': 'can the opposition in any way take power', 'start': 191.0, 'duration': 6.159}, {'text': 'do you think after this Crackdown from', 'start': 194.519, 'duration': 4.8}, {'text': 'Maduro even though countries around the', 'start': 197.159, 'duration': 5.64}, {'text': 'world are saying the election was', 'start': 199.319, 'duration': 6.321}, {'text': 'fraudulent yes uh well first of all', 'start': 202.799, 'duration': 5.121}, {'text': \"there's definitely uh a substantial\", 'start': 205.64, 'duration': 4.36}, {'text': 'amount of evidence that amundo Gonzalez', 'start': 207.92, 'duration': 4.8}, {'text': 'one uh the Venezuelan electronic voting', 'start': 210.0, 'duration': 5.519}, {'text': 'system is actually designed uh to', 'start': 212.72, 'duration': 5.0}, {'text': 'provide a lot of reliable information', 'start': 215.519, 'duration': 5.161}, {'text': 'including uh the printed tally sheets', 'start': 217.72, 'duration': 4.68}, {'text': 'which have a QR code associated with', 'start': 220.68, 'duration': 4.279}, {'text': 'them and the opposition has published uh', 'start': 222.4, 'duration': 6.08}, {'text': '83% more than 83% of these tally sheets', 'start': 224.959, 'duration': 6.401}, {'text': 'uh and they give Mr Gonzalez a very wide', 'start': 228.48, 'duration': 5.8}, {'text': 'margin so much so that even if all the', 'start': 231.36, 'duration': 6.159}, {'text': 'other 100% of the 17 uh% of T sheets', 'start': 234.28, 'duration': 4.4}, {'text': 'which are not available to the', 'start': 237.519, 'duration': 3.241}, {'text': 'opposition when favor of Maduro he would', 'start': 238.68, 'duration': 4.52}, {'text': \"still have lost the election so uh it's\", 'start': 240.76, 'duration': 4.119}, {'text': \"and and there's a big credibility\", 'start': 243.2, 'duration': 3.28}, {'text': 'problem what the Electoral Council has', 'start': 244.879, 'duration': 3.0}, {'text': 'announced because they have just', 'start': 246.48, 'duration': 3.119}, {'text': 'announced an aggregate number they have', 'start': 247.879, 'duration': 4.92}, {'text': 'not provided as required by law and as', 'start': 249.599, 'duration': 6.64}, {'text': 'customarily done in Venezuela uh the um', 'start': 252.799, 'duration': 6.801}, {'text': 'voting Center level results uh so so', 'start': 256.239, 'duration': 6.24}, {'text': 'effectively it very much looks like this', 'start': 259.6, 'duration': 6.48}, {'text': 'was a blatantly rigged election uh now', 'start': 262.479, 'duration': 5.72}, {'text': \"that said uh does this mean that there's\", 'start': 266.08, 'duration': 4.16}, {'text': 'going to be political change in Vela', 'start': 268.199, 'duration': 4.44}, {'text': 'well up until now the military', 'start': 270.24, 'duration': 5.519}, {'text': 'leadership uh has been steadfastly in', 'start': 272.639, 'duration': 5.881}, {'text': \"support of Nicolas Maduro uh so we're\", 'start': 275.759, 'duration': 5.361}, {'text': 'not seeing any signs of cracks in the', 'start': 278.52, 'duration': 5.28}, {'text': 'military uh we are seeing protests and', 'start': 281.12, 'duration': 4.68}, {'text': 'we are seeing the opposition uh', 'start': 283.8, 'duration': 3.88}, {'text': 'supporters come out into the streets uh', 'start': 285.8, 'duration': 3.48}, {'text': \"but we're also seeing the government\", 'start': 287.68, 'duration': 4.519}, {'text': 'cracking down on them uh with the the', 'start': 289.28, 'duration': 4.16}, {'text': 'type of repression that was just', 'start': 292.199, 'duration': 4.201}, {'text': \"described so um I I don't think well\", 'start': 293.44, 'duration': 4.759}, {'text': \"while there's definitely been a great\", 'start': 296.4, 'duration': 3.4}, {'text': 'achievement in terms of the opposition', 'start': 298.199, 'duration': 4.84}, {'text': 'of going against a rigged political', 'start': 299.8, 'duration': 4.92}, {'text': 'system and rigged elections and being', 'start': 303.039, 'duration': 4.121}, {'text': 'able to win and to demonstrate to the', 'start': 304.72, 'duration': 4.64}, {'text': 'International Community that they won', 'start': 307.16, 'duration': 5.68}, {'text': 'and while Mr Maduro uh completely lacks', 'start': 309.36, 'duration': 5.399}, {'text': 'any Democratic legitimacy as president', 'start': 312.84, 'duration': 4.52}, {'text': 'of Venezuela uh it still seems that he', 'start': 314.759, 'duration': 4.041}, {'text': 'continues to have the support of the', 'start': 317.36, 'duration': 4.44}, {'text': 'military', 'start': 318.8, 'duration': 3.0}]\n"
     ]
    }
   ],
   "source": [
    "print(srt)"
   ]
  },
  {
   "cell_type": "code",
   "execution_count": 118,
   "id": "9ae63ec9-cb20-4ab4-977d-a2e22f7daba1",
   "metadata": {},
   "outputs": [
    {
     "name": "stdout",
     "output_type": "stream",
     "text": [
      "['prosecutors in Venezuela have threatened', 'to issue an arrest warrant for one of', 'the opposition presidential candidates', 'edmundo Gonzalez if he ignores the third', 'summons to appear for questioning on', 'Friday Mr Gonzalez has been called to', 'testify about his role in posting online', 'voting data that appears to show he did', \"win last month's election while\", 'meanwhile opposition supporters have', 'gathered in Caracus as their leader', 'Maria Karina Mado came out of hiding to', \"lead a protest against Venezuela's\", 'controversial election and the', 'reelection of President Nicholas Maduro', 'which has been widely denounced as a', 'fraudulent result the opposition claimed', 'they won a landslide in the election and', 'they say that Mr majiro has stolen', 'Victory from them president majiro has', 'cracked down on his opponents arresting', \"hundreds of them well I've been talking\", 'about the political crisis in Venezuela', 'to Francisco Rodriguez who is a', 'professor at the J Corbell School of', 'International Studies at the University', 'of Denver and author of a forthcoming', 'book scorched Earth the political', \"economy of Venezuela's claps but first\", 'BBC Mundo Angel Bermudez gave me an', 'update on the number of people who have', \"been arrested by Venezuela's Security\", 'Forces according to the NGO for almost', '1600 people have been arrested in', 'Venezuela since the election night they', 'say that it brings the number the total', 'number of people incarcerated in', 'Venezuela for political reasons up to', 'almost 1800 including 100 minors among', 'the detes there are several important', 'political figures like former MPS from', 'the', 'opposition Freddy superlano William', 'Davila americ Gracia and also close', 'collaborators to the opposition leader', 'Maria Mach like Perkins roacha who was a', 'spokesperson for her campaign and has', 'just been detained last', \"Wednesday so it's a big Crackdown does\", 'does it look like majiro has effectively', \"won well here's the thing one month\", 'after the election the political crisis', 'is still unresolved and the situation', 'seems to be at a', 'stalemate Maduro is you know the the', 'Electoral Council has not yet published', 'the detailed result of the', 'votes and a sentence by the Supreme', \"Court validating maduro's alleged\", 'victory has been dismissed by the', 'opposition but also important countries', 'left leading governments in Latin', 'America like the one led by Lula the', 'Sila in Brazil and the one led by Lopez', \"obor in Mexico they're still asking for\", 'the Venezuelan authorities to publish', 'the detailed results so so they can give', 'some credibility to the electoral', 'process okay uh Professor Francisco', 'Rodriguez can I ask you what is your', \"analysis of what's going on in Venezuela\", 'can the opposition in any way take power', 'do you think after this Crackdown from', 'Maduro even though countries around the', 'world are saying the election was', 'fraudulent yes uh well first of all', \"there's definitely uh a substantial\", 'amount of evidence that amundo Gonzalez', 'one uh the Venezuelan electronic voting', 'system is actually designed uh to', 'provide a lot of reliable information', 'including uh the printed tally sheets', 'which have a QR code associated with', 'them and the opposition has published uh', '83% more than 83% of these tally sheets', 'uh and they give Mr Gonzalez a very wide', 'margin so much so that even if all the', 'other 100% of the 17 uh% of T sheets', 'which are not available to the', 'opposition when favor of Maduro he would', \"still have lost the election so uh it's\", \"and and there's a big credibility\", 'problem what the Electoral Council has', 'announced because they have just', 'announced an aggregate number they have', 'not provided as required by law and as', 'customarily done in Venezuela uh the um', 'voting Center level results uh so so', 'effectively it very much looks like this', 'was a blatantly rigged election uh now', \"that said uh does this mean that there's\", 'going to be political change in Vela', 'well up until now the military', 'leadership uh has been steadfastly in', \"support of Nicolas Maduro uh so we're\", 'not seeing any signs of cracks in the', 'military uh we are seeing protests and', 'we are seeing the opposition uh', 'supporters come out into the streets uh', \"but we're also seeing the government\", 'cracking down on them uh with the the', 'type of repression that was just', \"described so um I I don't think well\", \"while there's definitely been a great\", 'achievement in terms of the opposition', 'of going against a rigged political', 'system and rigged elections and being', 'able to win and to demonstrate to the', 'International Community that they won', 'and while Mr Maduro uh completely lacks', 'any Democratic legitimacy as president', 'of Venezuela uh it still seems that he', 'continues to have the support of the', 'military']\n"
     ]
    }
   ],
   "source": [
    "Script = []\n",
    "for i in range(len(srt)):\n",
    "    dict = srt[i]\n",
    "    for j in range(1):\n",
    "        s = dict.get(\"text\")\n",
    "        \n",
    "        Script.append(s)\n",
    "print(Script)\n",
    "        \n",
    "        \n",
    "        "
   ]
  },
  {
   "cell_type": "code",
   "execution_count": 119,
   "id": "46da6036-5ca3-4ee4-a9da-5f8c4de8d77f",
   "metadata": {},
   "outputs": [],
   "source": [
    "text = ' '.join(Script)\n",
    "new_text = text.lower()"
   ]
  },
  {
   "cell_type": "code",
   "execution_count": 120,
   "id": "87418034-815b-4571-be41-dc9316231387",
   "metadata": {},
   "outputs": [],
   "source": [
    "from punctuators.models import PunctCapSegModelONNX"
   ]
  },
  {
   "cell_type": "code",
   "execution_count": 121,
   "id": "eac44362-23b2-4328-80a4-8b0f6510b47e",
   "metadata": {},
   "outputs": [],
   "source": [
    "m = PunctCapSegModelONNX.from_pretrained(\"pcs_en\")"
   ]
  },
  {
   "cell_type": "code",
   "execution_count": 122,
   "id": "3571dd32-7e55-44fc-906e-575c65cc6833",
   "metadata": {},
   "outputs": [
    {
     "name": "stdout",
     "output_type": "stream",
     "text": [
      "Outputs:\n",
      "\tProsecutors in Venezuela have threatened to issue an arrest warrant for one of the opposition presidential candidates, Edmundo Gonzalez.\n",
      "\tIf he ignores the third summons to appear for questioning on Friday.\n",
      "\tMr. Gonzalez has been called to testify about his role in posting online voting data that appears to show he did win last month's election.\n",
      "\tWhile meanwhile, opposition supporters have gathered in Caracus as their leader, Maria Karina Mado came out of hiding to lead a protest against Venezuela's controversial election and the reelection of President Nicholas Maduro, which has been widely denounced as a fraudulent result.\n",
      "\tThe opposition claimed they won a landslide in the election, and they say that Mr Majiro has stolen victory from them.\n",
      "\tPresident Majiro has cracked down on his opponents, arresting hundreds of them.\n",
      "\tWell, I've been talking about the political crisis in Venezuela to Francisco Rodriguez, who is a professor at the J. Corbell School of International Studies at the University of Denver and author of a forthcoming book, Scorched Earth the Political Economy of Venezuela's Claps.\n",
      "\tBut first, BBC Mundo Angel Bermudez gave me an update on the number of people who have been arrested by Venezuela's security forces.\n",
      "\tAccording to the NGO, for almost 1600 people have been arrested in Venezuela since the election night.\n",
      "\tThey say that it brings the number the total number of people incarcerated in Venezuela for political reasons up to almost 1800, including 100 minors.\n",
      "\tAmong the Detes.\n",
      "\tThere are several important political figures, like former MPs from the opposition Freddy Superlano, William Davila, Americ Gracia and also close collaborators to the opposition leader, Maria Mach.\n",
      "\tLike Perkins, Roacha, who was a spokesperson for her campaign and has just been detained last Wednesday.\n",
      "\tSo it's a big crackdown.\n",
      "\tDoes does it look like Majiro has effectively won?\n",
      "\tWell, here's the thing.\n",
      "\tOne month after the election, the political crisis is still unresolved and the situation seems to be at a stalemate.\n",
      "\tMaduro is, you know, the the Electoral Council has not yet published.\n",
      "\tThe detailed result of the votes and a sentence by the Supreme Court validating Maduro's alleged victory has been dismissed by the opposition, but also important.\n",
      "\tCountries left leading governments in Latin America, like the one led by Lula, the Sila in Brazil and the one led by Lopez Obor in Mexico.\n",
      "\tThey're still asking for the Venezuelan authorities to publish the detailed results so so they can give some credibility to the electoral process.\n",
      "\tOkay, uh, Professor Francisco Rodriguez, can I ask you, what is your analysis of what's going on in Venezuela? Can the opposition in any way take power?\n",
      "\tDo you think after this crackdown from Maduro, even though countries around the world are saying the election was fraudulent?\n",
      "\tYes, uh, well, first of all, there's definitely, uh, a substantial amount of evidence that Amundo Gonzalez one, uh, the Venezuelan electronic voting system is actually designed, UH, to provide a lot of reliable information, including, uh, the printed tally sheets, which have a QR code associated with them.\n",
      "\tAnd the opposition has published, UH, 83<Unk>, more than 83<unk> of these tally sheets.\n",
      "\tUh, and they give Mr. Gonzalez a very wide margin.\n",
      "\tSo much so that even if all the other 100<unk> of the 17, uh,<unk> of T sheets, which are not available to the opposition.\n",
      "\tWhen favor of Maduro, he would still have lost the election.\n",
      "\tSo, uh, it's and, and there's a big credibility problem.\n",
      "\tWhat the Electoral Council has announced because they have just announced an aggregate number they have not provided, as required by law.\n",
      "\tAnd as customarily done in Venezuela.\n",
      "\tUh, the um, voting center level results Uh, so so effectively.\n",
      "\tIt very much looks like this was a blatantly rigged election.\n",
      "\tUh, now that said, uh, does this mean that there's going to be political change in Vela?\n",
      "\tWell, up until now, the military leadership, UH has been steadfastly in support of Nicolas Maduro.\n",
      "\tUh, so we're not seeing any signs of cracks in the military.\n",
      "\tUh, we are seeing protests and we are seeing the opposition, uh, supporters come out into the streets, uh, but we're also seeing the government cracking down on them, uh, with the the type of repression that was just described.\n",
      "\tSo, um, I, I don't think well while.\n",
      "\tThere's definitely been a great achievement in terms of the opposition of going against a rigged political system and rigged elections.\n",
      "\tAnd being able to win and to demonstrate to the international community that they won.\n",
      "\tAnd while Mr. Maduro, uh, completely lacks any Democratic legitimacy as president of Venezuela, Uh, it still seems that he continues to have the support of the military.\n",
      "\n"
     ]
    }
   ],
   "source": [
    "from typing import List\n",
    "input_texts = [new_text\n",
    "              ]\n",
    "\n",
    "results: List[List[str]] = m.infer(\n",
    "    texts=input_texts, apply_sbd=True,\n",
    ")\n",
    "for input_text, output_texts in zip(input_texts, results):\n",
    "    print(f\"Outputs:\")\n",
    "    for text in output_texts:\n",
    "        print(f\"\\t{text}\")\n",
    "    print()"
   ]
  },
  {
   "cell_type": "code",
   "execution_count": 123,
   "id": "e4e8621e-abde-49cb-a204-a52ab6760836",
   "metadata": {},
   "outputs": [
    {
     "name": "stdout",
     "output_type": "stream",
     "text": [
      "Prosecutors in Venezuela have threatened to issue an arrest warrant for one of the opposition presidential candidates, Edmundo Gonzalez.If he ignores the third summons to appear for questioning on Friday.Mr. Gonzalez has been called to testify about his role in posting online voting data that appears to show he did win last month's election.While meanwhile, opposition supporters have gathered in Caracus as their leader, Maria Karina Mado came out of hiding to lead a protest against Venezuela's controversial election and the reelection of President Nicholas Maduro, which has been widely denounced as a fraudulent result.The opposition claimed they won a landslide in the election, and they say that Mr Majiro has stolen victory from them.President Majiro has cracked down on his opponents, arresting hundreds of them.Well, I've been talking about the political crisis in Venezuela to Francisco Rodriguez, who is a professor at the J. Corbell School of International Studies at the University of Denver and author of a forthcoming book, Scorched Earth the Political Economy of Venezuela's Claps.But first, BBC Mundo Angel Bermudez gave me an update on the number of people who have been arrested by Venezuela's security forces.According to the NGO, for almost 1600 people have been arrested in Venezuela since the election night.They say that it brings the number the total number of people incarcerated in Venezuela for political reasons up to almost 1800, including 100 minors.Among the Detes.There are several important political figures, like former MPs from the opposition Freddy Superlano, William Davila, Americ Gracia and also close collaborators to the opposition leader, Maria Mach.Like Perkins, Roacha, who was a spokesperson for her campaign and has just been detained last Wednesday.So it's a big crackdown.Does does it look like Majiro has effectively won?Well, here's the thing.One month after the election, the political crisis is still unresolved and the situation seems to be at a stalemate.Maduro is, you know, the the Electoral Council has not yet published.The detailed result of the votes and a sentence by the Supreme Court validating Maduro's alleged victory has been dismissed by the opposition, but also important.Countries left leading governments in Latin America, like the one led by Lula, the Sila in Brazil and the one led by Lopez Obor in Mexico.They're still asking for the Venezuelan authorities to publish the detailed results so so they can give some credibility to the electoral process.Okay, uh, Professor Francisco Rodriguez, can I ask you, what is your analysis of what's going on in Venezuela? Can the opposition in any way take power?Do you think after this crackdown from Maduro, even though countries around the world are saying the election was fraudulent?Yes, uh, well, first of all, there's definitely, uh, a substantial amount of evidence that Amundo Gonzalez one, uh, the Venezuelan electronic voting system is actually designed, UH, to provide a lot of reliable information, including, uh, the printed tally sheets, which have a QR code associated with them.And the opposition has published, UH, 83<Unk>, more than 83<unk> of these tally sheets.Uh, and they give Mr. Gonzalez a very wide margin.So much so that even if all the other 100<unk> of the 17, uh,<unk> of T sheets, which are not available to the opposition.When favor of Maduro, he would still have lost the election.So, uh, it's and, and there's a big credibility problem.What the Electoral Council has announced because they have just announced an aggregate number they have not provided, as required by law.And as customarily done in Venezuela.Uh, the um, voting center level results Uh, so so effectively.It very much looks like this was a blatantly rigged election.Uh, now that said, uh, does this mean that there's going to be political change in Vela?Well, up until now, the military leadership, UH has been steadfastly in support of Nicolas Maduro.Uh, so we're not seeing any signs of cracks in the military.Uh, we are seeing protests and we are seeing the opposition, uh, supporters come out into the streets, uh, but we're also seeing the government cracking down on them, uh, with the the type of repression that was just described.So, um, I, I don't think well while.There's definitely been a great achievement in terms of the opposition of going against a rigged political system and rigged elections.And being able to win and to demonstrate to the international community that they won.And while Mr. Maduro, uh, completely lacks any Democratic legitimacy as president of Venezuela, Uh, it still seems that he continues to have the support of the military.\n"
     ]
    }
   ],
   "source": [
    "maintext = \"\"\n",
    "# passing in a string \n",
    "for i in output_texts:\n",
    "    maintext += i +''\n",
    "\n",
    "print(maintext)\n"
   ]
  },
  {
   "cell_type": "code",
   "execution_count": 39,
   "id": "e3e28b9d-5e95-41c0-9ab0-c239cb135763",
   "metadata": {},
   "outputs": [
    {
     "name": "stdout",
     "output_type": "stream",
     "text": [
      "\u001b[38;5;2m✔ Download and installation successful\u001b[0m\n",
      "You can now load the package via spacy.load('en_core_web_sm')\n",
      "\u001b[38;5;3m⚠ Restart to reload dependencies\u001b[0m\n",
      "If you are in a Jupyter or Colab notebook, you may need to restart Python in\n",
      "order to load all the package's dependencies. You can do this by selecting the\n",
      "'Restart kernel' or 'Restart runtime' option.\n"
     ]
    }
   ],
   "source": [
    "import spacy\n",
    "import spacy.cli\n",
    "spacy.cli.download(\"en_core_web_sm\")\n"
   ]
  },
  {
   "cell_type": "code",
   "execution_count": 40,
   "id": "3e4d5e61-4683-4e1a-861a-cca52464c42b",
   "metadata": {},
   "outputs": [],
   "source": [
    "nlp = spacy.load(\"en_core_web_sm\")"
   ]
  },
  {
   "cell_type": "code",
   "execution_count": 124,
   "id": "8e9777ac-ac7c-4f03-9c59-a34b7a703b9b",
   "metadata": {},
   "outputs": [
    {
     "name": "stdout",
     "output_type": "stream",
     "text": [
      "['Prosecutors in Venezuela have threatened to issue an arrest warrant for one of the opposition presidential candidates, Edmundo Gonzalez.', 'If he ignores the third summons to appear for questioning on Friday.', \"Mr. Gonzalez has been called to testify about his role in posting online voting data that appears to show he did win last month's election.\", \"While meanwhile, opposition supporters have gathered in Caracus as their leader, Maria Karina Mado came out of hiding to lead a protest against Venezuela's controversial election and the reelection of President Nicholas Maduro, which has been widely denounced as a fraudulent result.\", 'The opposition claimed they won a landslide in the election, and they say that Mr Majiro has stolen victory from them.', 'President Majiro has cracked down on his opponents, arresting hundreds of them.', \"Well, I've been talking about the political crisis in Venezuela to Francisco Rodriguez, who is a professor at the J. Corbell School of International Studies at the University of Denver and author of a forthcoming book, Scorched Earth the Political Economy of Venezuela's Claps.\", \"But first, BBC Mundo Angel Bermudez gave me an update on the number of people who have been arrested by Venezuela's security forces.\", 'According to the NGO, for almost 1600 people have been arrested in Venezuela since the election night.', 'They say that it brings the number the total number of people incarcerated in Venezuela for political reasons up to almost 1800, including 100 minors.', 'Among the Detes.', 'There are several important political figures, like former MPs from the opposition Freddy Superlano, William Davila, Americ Gracia and also close collaborators to the opposition leader, Maria Mach.', 'Like Perkins, Roacha, who was a spokesperson for her campaign and has just been detained last Wednesday.', \"So it's a big crackdown.\", \"Does does it look like Majiro has effectively won?Well, here's the thing.\", 'One month after the election, the political crisis is still unresolved and the situation seems to be at a stalemate.', 'Maduro is, you know, the the Electoral Council has not yet published.', \"The detailed result of the votes and a sentence by the Supreme Court validating Maduro's alleged victory has been dismissed by the opposition, but also important.\", 'Countries left leading governments in Latin America, like the one led by Lula, the Sila in Brazil and the one led by Lopez Obor in Mexico.', \"They're still asking for the Venezuelan authorities to publish the detailed results\", 'so so they can give some credibility to the electoral process.', \"Okay, uh, Professor Francisco Rodriguez, can I ask you, what is your analysis of what's going on in Venezuela?\", 'Can the opposition in any way take power?Do', \"you think after this crackdown from Maduro, even though countries around the world are saying the election was fraudulent?Yes, uh, well, first of all, there's definitely, uh, a substantial amount of evidence that Amundo Gonzalez one, uh, the Venezuelan electronic voting system is actually designed, UH, to provide a lot of reliable information, including, uh, the printed tally sheets, which have a QR code associated with them.\", 'And the opposition has published, UH, 83<Unk>, more than 83<unk> of these tally sheets.', 'Uh, and they give Mr. Gonzalez a very wide margin.', 'So much so that even if all the other 100<unk> of the 17, uh,<unk> of T sheets, which are not available to the opposition.', 'When favor of Maduro, he would still have lost the election.', \"So, uh, it's and, and there's a big credibility problem.\", 'What the Electoral Council has announced because they have just announced an aggregate number they have not provided, as required by law.', 'And as customarily done in Venezuela.', 'Uh, the um, voting center level results Uh, so so effectively.', 'It very much looks like this was a blatantly rigged election.', \"Uh, now that said, uh, does this mean that there's going to be political change in Vela?Well, up until now, the military leadership, UH has been steadfastly in support of Nicolas Maduro.\", \"Uh, so we're not seeing any signs of cracks in the military.\", \"Uh, we are seeing protests and we are seeing the opposition, uh, supporters come out into the streets, uh, but we're also seeing the government cracking down on them, uh, with the the type of repression that was just described.\", \"So, um, I, I don't think well while.\", \"There's definitely been a great achievement in terms of the opposition of going against a rigged political system and rigged elections.\", 'And being able to win and to demonstrate to the international community that they won.', 'And while Mr. Maduro, uh, completely lacks any Democratic legitimacy as president of Venezuela, Uh, it still seems that he continues to have the support of the military.']\n"
     ]
    }
   ],
   "source": [
    "tokensent = []\n",
    "doc = nlp(maintext)\n",
    "for sent in doc.sents:\n",
    "    tokensent.append(str(sent))\n",
    "print(tokensent)"
   ]
  },
  {
   "cell_type": "code",
   "execution_count": 125,
   "id": "74e338ef-6191-4822-b226-52ba0a302b8a",
   "metadata": {},
   "outputs": [],
   "source": [
    "vectorizer = TfidfVectorizer(stop_words='english')\n",
    "features = vectorizer.fit_transform(tokensent)"
   ]
  },
  {
   "cell_type": "code",
   "execution_count": 126,
   "id": "af878c77-e086-492a-83d1-6fa17d0c29bc",
   "metadata": {},
   "outputs": [
    {
     "name": "stdout",
     "output_type": "stream",
     "text": [
      "- Sentences 1\n",
      "Sum of sentence TF-IDF score:  3.2641919107988526\n",
      "Length of sentence (number of words):  11\n",
      "Average TF-IDF score:  0.29674471916353207\n",
      "-------------------------\n",
      "- Sentences 2\n",
      "Sum of sentence TF-IDF score:  2.23606797749979\n",
      "Length of sentence (number of words):  5\n",
      "Average TF-IDF score:  0.447213595499958\n",
      "-------------------------\n",
      "- Sentences 3\n",
      "Sum of sentence TF-IDF score:  3.711574082571551\n",
      "Length of sentence (number of words):  14\n",
      "Average TF-IDF score:  0.26511243446939653\n",
      "-------------------------\n",
      "- Sentences 4\n",
      "Sum of sentence TF-IDF score:  4.737494894384393\n",
      "Length of sentence (number of words):  23\n",
      "Average TF-IDF score:  0.20597803888627797\n",
      "-------------------------\n",
      "- Sentences 5\n",
      "Sum of sentence TF-IDF score:  3.117776387464268\n",
      "Length of sentence (number of words):  10\n",
      "Average TF-IDF score:  0.3117776387464268\n",
      "-------------------------\n",
      "- Sentences 6\n",
      "Sum of sentence TF-IDF score:  2.4404337715513424\n",
      "Length of sentence (number of words):  6\n",
      "Average TF-IDF score:  0.40673896192522374\n",
      "-------------------------\n",
      "- Sentences 7\n",
      "Sum of sentence TF-IDF score:  4.557604147633615\n",
      "Length of sentence (number of words):  21\n",
      "Average TF-IDF score:  0.21702876893493406\n",
      "-------------------------\n",
      "- Sentences 8\n",
      "Sum of sentence TF-IDF score:  3.4360078504508116\n",
      "Length of sentence (number of words):  12\n",
      "Average TF-IDF score:  0.2863339875375676\n",
      "-------------------------\n",
      "- Sentences 9\n",
      "Sum of sentence TF-IDF score:  2.7820979473580474\n",
      "Length of sentence (number of words):  8\n",
      "Average TF-IDF score:  0.3477622434197559\n",
      "-------------------------\n",
      "- Sentences 10\n",
      "Sum of sentence TF-IDF score:  3.5009707650356394\n",
      "Length of sentence (number of words):  13\n",
      "Average TF-IDF score:  0.26930544346428\n",
      "-------------------------\n",
      "- Sentences 11\n",
      "Sum of sentence TF-IDF score:  1.0\n",
      "Length of sentence (number of words):  1\n",
      "Average TF-IDF score:  1.0\n",
      "-------------------------\n",
      "- Sentences 12\n",
      "Sum of sentence TF-IDF score:  4.097700264902639\n",
      "Length of sentence (number of words):  17\n",
      "Average TF-IDF score:  0.2410411920530964\n",
      "-------------------------\n",
      "- Sentences 13\n",
      "Sum of sentence TF-IDF score:  2.812783795120563\n",
      "Length of sentence (number of words):  8\n",
      "Average TF-IDF score:  0.3515979743900704\n",
      "-------------------------\n",
      "- Sentences 14\n",
      "Sum of sentence TF-IDF score:  1.414213562373095\n",
      "Length of sentence (number of words):  2\n",
      "Average TF-IDF score:  0.7071067811865475\n",
      "-------------------------\n",
      "- Sentences 15\n",
      "Sum of sentence TF-IDF score:  2.5123259676382466\n",
      "Length of sentence (number of words):  7\n",
      "Average TF-IDF score:  0.35890370966260665\n",
      "-------------------------\n",
      "- Sentences 16\n",
      "Sum of sentence TF-IDF score:  2.6105560977720232\n",
      "Length of sentence (number of words):  7\n",
      "Average TF-IDF score:  0.37293658539600333\n",
      "-------------------------\n",
      "- Sentences 17\n",
      "Sum of sentence TF-IDF score:  2.2163260664853497\n",
      "Length of sentence (number of words):  5\n",
      "Average TF-IDF score:  0.4432652132970699\n",
      "-------------------------\n",
      "- Sentences 18\n",
      "Sum of sentence TF-IDF score:  3.567031723058297\n",
      "Length of sentence (number of words):  13\n",
      "Average TF-IDF score:  0.274387055619869\n",
      "-------------------------\n",
      "- Sentences 19\n",
      "Sum of sentence TF-IDF score:  3.618605105785203\n",
      "Length of sentence (number of words):  14\n",
      "Average TF-IDF score:  0.2584717932703716\n",
      "-------------------------\n",
      "- Sentences 20\n",
      "Sum of sentence TF-IDF score:  2.4460432813557222\n",
      "Length of sentence (number of words):  6\n",
      "Average TF-IDF score:  0.4076738802259537\n",
      "-------------------------\n",
      "- Sentences 21\n",
      "Sum of sentence TF-IDF score:  1.7268312442355542\n",
      "Length of sentence (number of words):  3\n",
      "Average TF-IDF score:  0.5756104147451847\n",
      "-------------------------\n",
      "- Sentences 22\n",
      "Sum of sentence TF-IDF score:  2.9497287334999296\n",
      "Length of sentence (number of words):  9\n",
      "Average TF-IDF score:  0.3277476370555477\n",
      "-------------------------\n",
      "- Sentences 23\n",
      "Sum of sentence TF-IDF score:  1.6869456998106918\n",
      "Length of sentence (number of words):  3\n",
      "Average TF-IDF score:  0.5623152332702306\n",
      "-------------------------\n",
      "- Sentences 24\n",
      "Sum of sentence TF-IDF score:  5.265302207159979\n",
      "Length of sentence (number of words):  31\n",
      "Average TF-IDF score:  0.1698484582954832\n",
      "-------------------------\n",
      "- Sentences 25\n",
      "Sum of sentence TF-IDF score:  2.368338424924624\n",
      "Length of sentence (number of words):  7\n",
      "Average TF-IDF score:  0.33833406070351774\n",
      "-------------------------\n",
      "- Sentences 26\n",
      "Sum of sentence TF-IDF score:  2.190894773403346\n",
      "Length of sentence (number of words):  5\n",
      "Average TF-IDF score:  0.4381789546806692\n",
      "-------------------------\n",
      "- Sentences 27\n",
      "Sum of sentence TF-IDF score:  2.452147943169829\n",
      "Length of sentence (number of words):  7\n",
      "Average TF-IDF score:  0.3503068490242613\n",
      "-------------------------\n",
      "- Sentences 28\n",
      "Sum of sentence TF-IDF score:  1.9535038773922397\n",
      "Length of sentence (number of words):  4\n",
      "Average TF-IDF score:  0.48837596934805994\n",
      "-------------------------\n",
      "- Sentences 29\n",
      "Sum of sentence TF-IDF score:  1.960562321723939\n",
      "Length of sentence (number of words):  4\n",
      "Average TF-IDF score:  0.49014058043098474\n",
      "-------------------------\n",
      "- Sentences 30\n",
      "Sum of sentence TF-IDF score:  2.846513433815733\n",
      "Length of sentence (number of words):  9\n",
      "Average TF-IDF score:  0.3162792704239703\n",
      "-------------------------\n",
      "- Sentences 31\n",
      "Sum of sentence TF-IDF score:  1.3719090933657943\n",
      "Length of sentence (number of words):  2\n",
      "Average TF-IDF score:  0.6859545466828971\n",
      "-------------------------\n",
      "- Sentences 32\n",
      "Sum of sentence TF-IDF score:  2.634693646402165\n",
      "Length of sentence (number of words):  7\n",
      "Average TF-IDF score:  0.37638480662888074\n",
      "-------------------------\n",
      "- Sentences 33\n",
      "Sum of sentence TF-IDF score:  2.2019727097225377\n",
      "Length of sentence (number of words):  5\n",
      "Average TF-IDF score:  0.44039454194450756\n",
      "-------------------------\n",
      "- Sentences 34\n",
      "Sum of sentence TF-IDF score:  3.6424494673527996\n",
      "Length of sentence (number of words):  14\n",
      "Average TF-IDF score:  0.2601749619537714\n",
      "-------------------------\n",
      "- Sentences 35\n",
      "Sum of sentence TF-IDF score:  2.1959537975691665\n",
      "Length of sentence (number of words):  5\n",
      "Average TF-IDF score:  0.4391907595138333\n",
      "-------------------------\n",
      "- Sentences 36\n",
      "Sum of sentence TF-IDF score:  3.243060733328926\n",
      "Length of sentence (number of words):  13\n",
      "Average TF-IDF score:  0.2494662102560712\n",
      "-------------------------\n",
      "- Sentences 37\n",
      "Sum of sentence TF-IDF score:  1.729805422590563\n",
      "Length of sentence (number of words):  3\n",
      "Average TF-IDF score:  0.5766018075301876\n",
      "-------------------------\n",
      "- Sentences 38\n",
      "Sum of sentence TF-IDF score:  2.8467388813709222\n",
      "Length of sentence (number of words):  9\n",
      "Average TF-IDF score:  0.3163043201523247\n",
      "-------------------------\n",
      "- Sentences 39\n",
      "Sum of sentence TF-IDF score:  2.443304975234271\n",
      "Length of sentence (number of words):  6\n",
      "Average TF-IDF score:  0.4072174958723785\n",
      "-------------------------\n",
      "- Sentences 40\n",
      "Sum of sentence TF-IDF score:  3.416100181972964\n",
      "Length of sentence (number of words):  12\n",
      "Average TF-IDF score:  0.2846750151644137\n",
      "-------------------------\n"
     ]
    }
   ],
   "source": [
    "sent_index = 0\n",
    "sent_scores = []\n",
    "\n",
    "# Calculate sentence TF-IDF score\n",
    "for i in features :\n",
    "  print(f\"- Sentences {sent_index + 1}\")\n",
    "  sent_score = i.sum()\n",
    "  sent_length = len(i.data)\n",
    "  print(\"Sum of sentence TF-IDF score: \", sent_score)\n",
    "  print(\"Length of sentence (number of words): \", sent_length)\n",
    "  avg_score = sent_score/sent_length\n",
    "  print(\"Average TF-IDF score: \", avg_score)\n",
    "  print(\"-------------------------\")\n",
    "  sent_index +=1\n",
    "  sent_scores.append(avg_score)"
   ]
  },
  {
   "cell_type": "code",
   "execution_count": 127,
   "id": "02528fd2-68a9-4bec-a504-fac5b5aba700",
   "metadata": {},
   "outputs": [
    {
     "data": {
      "text/plain": [
       "0.3890720477706529"
      ]
     },
     "execution_count": 127,
     "metadata": {},
     "output_type": "execute_result"
    }
   ],
   "source": [
    "threshold = sum(sent_scores)/len(sent_scores) # Average of Sentence Scores\n",
    "threshold"
   ]
  },
  {
   "cell_type": "code",
   "execution_count": 128,
   "id": "a15cba4a-f00e-4508-ac90-1e13e14be35f",
   "metadata": {},
   "outputs": [
    {
     "name": "stdout",
     "output_type": "stream",
     "text": [
      "-  If he ignores the third summons to appear for questioning on Friday.\n",
      "-  President Majiro has cracked down on his opponents, arresting hundreds of them.\n",
      "-  Among the Detes.\n",
      "-  So it's a big crackdown.\n",
      "-  Maduro is, you know, the the Electoral Council has not yet published.\n",
      "-  They're still asking for the Venezuelan authorities to publish the detailed results\n",
      "-  so so they can give some credibility to the electoral process.\n",
      "-  Can the opposition in any way take power?Do\n",
      "-  Uh, and they give Mr. Gonzalez a very wide margin.\n",
      "-  When favor of Maduro, he would still have lost the election.\n",
      "-  So, uh, it's and, and there's a big credibility problem.\n",
      "-  And as customarily done in Venezuela.\n",
      "-  It very much looks like this was a blatantly rigged election.\n",
      "-  Uh, so we're not seeing any signs of cracks in the military.\n",
      "-  So, um, I, I don't think well while.\n",
      "-  And being able to win and to demonstrate to the international community that they won.\n"
     ]
    }
   ],
   "source": [
    "final_summ = \"\"\n",
    "\n",
    "# Get summary sentences\n",
    "for index, data in enumerate(sent_scores) :\n",
    "  if (data >= (threshold)) :\n",
    "    final_summ = final_summ + \" \" + tokensent[index]\n",
    "    print(\"- \", tokensent[index])"
   ]
  },
  {
   "cell_type": "code",
   "execution_count": 129,
   "id": "36d7b3cd-f047-4cd1-95a3-6f45c5778b71",
   "metadata": {},
   "outputs": [
    {
     "data": {
      "text/plain": [
       "\" If he ignores the third summons to appear for questioning on Friday. President Majiro has cracked down on his opponents, arresting hundreds of them. Among the Detes. So it's a big crackdown. Maduro is, you know, the the Electoral Council has not yet published. They're still asking for the Venezuelan authorities to publish the detailed results so so they can give some credibility to the electoral process. Can the opposition in any way take power?Do Uh, and they give Mr. Gonzalez a very wide margin. When favor of Maduro, he would still have lost the election. So, uh, it's and, and there's a big credibility problem. And as customarily done in Venezuela. It very much looks like this was a blatantly rigged election. Uh, so we're not seeing any signs of cracks in the military. So, um, I, I don't think well while. And being able to win and to demonstrate to the international community that they won.\""
      ]
     },
     "execution_count": 129,
     "metadata": {},
     "output_type": "execute_result"
    }
   ],
   "source": [
    "final_summ"
   ]
  },
  {
   "cell_type": "code",
   "execution_count": 130,
   "id": "2c26d969-dbd9-46f4-b599-d6ce4207ee54",
   "metadata": {},
   "outputs": [
    {
     "data": {
      "text/plain": [
       "0.24468084629017658"
      ]
     },
     "execution_count": 130,
     "metadata": {},
     "output_type": "execute_result"
    }
   ],
   "source": [
    "from rouge import Rouge\n",
    "rouge_scorer = Rouge()\n",
    "\n",
    "hypothesis = final_summ\n",
    "reference = \"Venezuelan prosecutors have warned opposition candidate Edmundo Gonzalez of an impending arrest if he doesn't respond to a summons related to his role in posting election data suggesting he won the recent election. Opposition leader Maria Karina Mado led protests against President Nicolas Maduro's reelection, which the opposition claims was fraudulent. Despite international calls for transparency and widespread arrests of opposition supporters, the government hasn't released detailed election results. While the opposition presents strong evidence of victory, Maduro maintains military support, leaving the political situation at a stalemate.\"\n",
    "set34 = len(reference)\n",
    "score = rouge_scorer.get_scores(\n",
    "    hyps=hypothesis,\n",
    "    refs=reference,\n",
    ")\n",
    "score[0][\"rouge-1\"][\"f\"]"
   ]
  },
  {
   "cell_type": "code",
   "execution_count": null,
   "id": "c9c4f15a-8ce6-4f7a-b550-237d6dafa4a9",
   "metadata": {},
   "outputs": [],
   "source": []
  }
 ],
 "metadata": {
  "kernelspec": {
   "display_name": "Python 3 (ipykernel)",
   "language": "python",
   "name": "python3"
  },
  "language_info": {
   "codemirror_mode": {
    "name": "ipython",
    "version": 3
   },
   "file_extension": ".py",
   "mimetype": "text/x-python",
   "name": "python",
   "nbconvert_exporter": "python",
   "pygments_lexer": "ipython3",
   "version": "3.11.7"
  },
  "widgets": {
   "application/vnd.jupyter.widget-state+json": {
    "state": {},
    "version_major": 2,
    "version_minor": 0
   }
  }
 },
 "nbformat": 4,
 "nbformat_minor": 5
}
