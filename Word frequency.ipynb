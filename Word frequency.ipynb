{
 "cells": [
  {
   "cell_type": "code",
   "execution_count": null,
   "id": "afd57a70-9b72-4b5a-81d3-8e8a4ae1d983",
   "metadata": {},
   "outputs": [],
   "source": [
    "pip install youtube-transcript-api"
   ]
  },
  {
   "cell_type": "code",
   "execution_count": 1,
   "id": "c1ba7c5d-a061-4da9-a71c-ad9510828f88",
   "metadata": {},
   "outputs": [],
   "source": [
    "from youtube_transcript_api import YouTubeTranscriptApi"
   ]
  },
  {
   "cell_type": "code",
   "execution_count": 111,
   "id": "f4cd8568-3d47-4fa1-af4e-71415b3daa08",
   "metadata": {},
   "outputs": [],
   "source": [
    "srt = YouTubeTranscriptApi.get_transcript(\"PF2ad6pt5k0\")"
   ]
  },
  {
   "cell_type": "code",
   "execution_count": null,
   "id": "129dc2d4-3b78-46c2-bc9d-348d104f33ca",
   "metadata": {},
   "outputs": [],
   "source": [
    "pip install punctuators\n"
   ]
  },
  {
   "cell_type": "code",
   "execution_count": 112,
   "id": "055f698e-c79e-4f0e-836e-94d3d6eddf10",
   "metadata": {},
   "outputs": [
    {
     "name": "stdout",
     "output_type": "stream",
     "text": [
      "[{'text': 'the fastest path to destroy', 'start': 0.08, 'duration': 4.199}, {'text': 'procrastination is to make the work so', 'start': 1.8, 'duration': 4.599}, {'text': 'convenient that it feels stupid not to', 'start': 4.279, 'duration': 4.481}, {'text': \"do I've done this with two simple steps\", 'start': 6.399, 'duration': 4.761}, {'text': 'one procrastination is kind of like a', 'start': 8.76, 'duration': 4.959}, {'text': 'giant brick wall you have to climb over', 'start': 11.16, 'duration': 4.359}, {'text': 'to get the reward this might be you', 'start': 13.719, 'duration': 3.681}, {'text': 'needing to study but this is a bloody', 'start': 15.519, 'duration': 4.041}, {'text': 'big brick wall first we need to find', 'start': 17.4, 'duration': 4.08}, {'text': 'ways to make the wall smaller which', 'start': 19.56, 'duration': 3.76}, {'text': 'means you need less energy to start', 'start': 21.48, 'duration': 3.799}, {'text': 'climbing this looks like lowering the', 'start': 23.32, 'duration': 4.56}, {'text': 'length of the work activity from 1 hour', 'start': 25.279, 'duration': 4.961}, {'text': 'to 5 minutes the less amount of work the', 'start': 27.88, 'duration': 4.44}, {'text': 'short of the wall two to do a bloody', 'start': 30.24, 'duration': 4.839}, {'text': 'double whammy add faster or more rewards', 'start': 32.32, 'duration': 4.759}, {'text': 'behind the brick wall itself anything', 'start': 35.079, 'duration': 4.521}, {'text': 'that feels rewarding is a huge incentive', 'start': 37.079, 'duration': 4.32}, {'text': 'to start doing the work I do this by', 'start': 39.6, 'duration': 3.639}, {'text': 'having a satisfying checklist habit', 'start': 41.399, 'duration': 3.84}, {'text': 'trackers I can check off after basically', 'start': 43.239, 'duration': 4.0}, {'text': 'when you lower the barrier to the work', 'start': 45.239, 'duration': 4.241}, {'text': 'and add fast little dopamine rewards on', 'start': 47.239, 'duration': 3.921}, {'text': 'the other side like check boxes and', 'start': 49.48, 'duration': 3.84}, {'text': 'trackers it becomes irrational that you', 'start': 51.16, 'duration': 6.44}, {'text': \"wouldn't sit down and do the work we\", 'start': 53.32, 'duration': 4.28}]\n"
     ]
    }
   ],
   "source": [
    "print(srt)"
   ]
  },
  {
   "cell_type": "code",
   "execution_count": 113,
   "id": "9ae63ec9-cb20-4ab4-977d-a2e22f7daba1",
   "metadata": {},
   "outputs": [
    {
     "name": "stdout",
     "output_type": "stream",
     "text": [
      "['the fastest path to destroy', 'procrastination is to make the work so', 'convenient that it feels stupid not to', \"do I've done this with two simple steps\", 'one procrastination is kind of like a', 'giant brick wall you have to climb over', 'to get the reward this might be you', 'needing to study but this is a bloody', 'big brick wall first we need to find', 'ways to make the wall smaller which', 'means you need less energy to start', 'climbing this looks like lowering the', 'length of the work activity from 1 hour', 'to 5 minutes the less amount of work the', 'short of the wall two to do a bloody', 'double whammy add faster or more rewards', 'behind the brick wall itself anything', 'that feels rewarding is a huge incentive', 'to start doing the work I do this by', 'having a satisfying checklist habit', 'trackers I can check off after basically', 'when you lower the barrier to the work', 'and add fast little dopamine rewards on', 'the other side like check boxes and', 'trackers it becomes irrational that you', \"wouldn't sit down and do the work we\"]\n"
     ]
    }
   ],
   "source": [
    "Script = []\n",
    "\n",
    "\n",
    "for i in range(len(srt)):\n",
    "    dict = srt[i]\n",
    "    for j in range(1):\n",
    "        s = dict.get(\"text\")\n",
    "        Script.append(s)\n",
    "\n",
    "print(Script)\n",
    "        \n",
    "        \n",
    "        "
   ]
  },
  {
   "cell_type": "code",
   "execution_count": 114,
   "id": "46da6036-5ca3-4ee4-a9da-5f8c4de8d77f",
   "metadata": {},
   "outputs": [],
   "source": [
    "text = ' '.join(Script)\n",
    "new_text = text.lower()"
   ]
  },
  {
   "cell_type": "code",
   "execution_count": 8,
   "id": "87418034-815b-4571-be41-dc9316231387",
   "metadata": {},
   "outputs": [],
   "source": [
    "from punctuators.models import PunctCapSegModelONNX"
   ]
  },
  {
   "cell_type": "code",
   "execution_count": 9,
   "id": "eac44362-23b2-4328-80a4-8b0f6510b47e",
   "metadata": {},
   "outputs": [
    {
     "name": "stderr",
     "output_type": "stream",
     "text": [
      "C:\\Users\\mayan\\AppData\\Roaming\\Python\\Python311\\site-packages\\onnxruntime\\capi\\onnxruntime_inference_collection.py:69: UserWarning: Specified provider 'CUDAExecutionProvider' is not in available provider names.Available providers: 'AzureExecutionProvider, CPUExecutionProvider'\n",
      "  warnings.warn(\n"
     ]
    }
   ],
   "source": [
    "m = PunctCapSegModelONNX.from_pretrained(\"pcs_en\")"
   ]
  },
  {
   "cell_type": "code",
   "execution_count": 115,
   "id": "3571dd32-7e55-44fc-906e-575c65cc6833",
   "metadata": {},
   "outputs": [
    {
     "name": "stdout",
     "output_type": "stream",
     "text": [
      "Outputs:\n",
      "\tThe fastest path to destroy procrastination is to make the work so convenient that it feels stupid not to do.\n",
      "\tI've done this with two simple steps.\n",
      "\tOne procrastination is kind of like a giant brick wall.\n",
      "\tYou have to climb over to get the reward.\n",
      "\tThis might be you needing to study, but this is a bloody big brick wall.\n",
      "\tFirst, we need to find ways to make the wall smaller, which means you need less energy to start climbing.\n",
      "\tThis looks like lowering the length of the work activity from 1 hour to 5 minutes, the less amount of work, the short of the wall.\n",
      "\tTwo to do a bloody double whammy.\n",
      "\tAdd faster or more rewards behind the brick wall itself.\n",
      "\tAnything that feels rewarding is a huge incentive to start doing the work.\n",
      "\tI do this by having a satisfying checklist habit trackers I can check off after.\n",
      "\tBasically, when you lower the barrier to the work and add fast little dopamine rewards on the other side, like check boxes and trackers, it becomes irrational that you wouldn't sit down and do the work we.\n",
      "\n"
     ]
    }
   ],
   "source": [
    "from typing import List\n",
    "input_texts = [new_text\n",
    "              ]\n",
    "\n",
    "results: List[List[str]] = m.infer(\n",
    "    texts=input_texts, apply_sbd=True,\n",
    ")\n",
    "for input_text, output_texts in zip(input_texts, results):\n",
    "    print(f\"Outputs:\")\n",
    "    for text in output_texts:\n",
    "        print(f\"\\t{text}\")\n",
    "    print()"
   ]
  },
  {
   "cell_type": "code",
   "execution_count": 116,
   "id": "e4e8621e-abde-49cb-a204-a52ab6760836",
   "metadata": {},
   "outputs": [
    {
     "name": "stdout",
     "output_type": "stream",
     "text": [
      "The fastest path to destroy procrastination is to make the work so convenient that it feels stupid not to do.I've done this with two simple steps.One procrastination is kind of like a giant brick wall.You have to climb over to get the reward.This might be you needing to study, but this is a bloody big brick wall.First, we need to find ways to make the wall smaller, which means you need less energy to start climbing.This looks like lowering the length of the work activity from 1 hour to 5 minutes, the less amount of work, the short of the wall.Two to do a bloody double whammy.Add faster or more rewards behind the brick wall itself.Anything that feels rewarding is a huge incentive to start doing the work.I do this by having a satisfying checklist habit trackers I can check off after.Basically, when you lower the barrier to the work and add fast little dopamine rewards on the other side, like check boxes and trackers, it becomes irrational that you wouldn't sit down and do the work we.\n"
     ]
    }
   ],
   "source": [
    "\n",
    "maintext = \"\"\n",
    "\n",
    "# passing in a string \n",
    "\n",
    "for i in output_texts:\n",
    "    maintext += i +''\n",
    "\n",
    "print(maintext)\n"
   ]
  },
  {
   "cell_type": "code",
   "execution_count": null,
   "id": "3c4bd937-613e-4114-a741-b50eae750a23",
   "metadata": {},
   "outputs": [],
   "source": [
    "pip install spacy "
   ]
  },
  {
   "cell_type": "code",
   "execution_count": null,
   "id": "e3e28b9d-5e95-41c0-9ab0-c239cb135763",
   "metadata": {},
   "outputs": [],
   "source": [
    "\n",
    "import spacy\n",
    "import spacy.cli\n",
    "spacy.cli.download(\"en_core_web_sm\")\n"
   ]
  },
  {
   "cell_type": "code",
   "execution_count": 30,
   "id": "3e4d5e61-4683-4e1a-861a-cca52464c42b",
   "metadata": {},
   "outputs": [],
   "source": [
    "nlp = spacy.load(\"en_core_web_sm\")"
   ]
  },
  {
   "cell_type": "code",
   "execution_count": null,
   "id": "732cdbe8-a28e-46b6-a9db-a9a3c61a2c0a",
   "metadata": {},
   "outputs": [],
   "source": [
    "import nltk\n",
    "nltk.download('punkt') # punkt tokenizer for sentence tokenization\n",
    "nltk.download('stopwords') # list of stop words, such as 'a', 'an', 'the', 'in', etc, which would be dropped\n",
    "from collections import Counter # Imports the Counter class from the collections module, used for counting the frequency of words in a text.\n",
    "from nltk.corpus import stopwords # Imports the stop words list from the NLTK corpus\n",
    "# corpus is a large collection of text or speech data used for statistical analysis\n",
    "\n",
    "from nltk.tokenize import sent_tokenize, word_tokenize # Imports the sentence tokenizer and word tokenizer from the NLTK tokenizer module. \n",
    "# Sentence tokenizer is for splitting text into sentences\n",
    "# word tokenizer is for splitting sentences into words\n",
    "\n",
    "# this function would take 2 inputs, one being the text, and the other being the summary which would contain the number of lines\n",
    "def generate_summary(text, n):\n",
    "    doc = nlp(text)\n",
    "    \n",
    "    # Tokenize each sentence into individual words and remove stopwords\n",
    "    stop_words = set(stopwords.words('english'))\n",
    "    # the following line would tokenize each sentence from sentences into individual words using the word_tokenize function of nltk.tokenize module\n",
    "    # Then removes any stop words and non-alphanumeric characters from the resulting list of words and converts them all to lowercase\n",
    "    words = [word.lower() for word in word_tokenize(text) if word.lower() not in stop_words and word.isalnum()]\n",
    "    \n",
    "    # Compute the frequency of each word\n",
    "    word_freq = Counter(words)\n",
    "    \n",
    "    # Compute the score for each sentence based on the frequency of its words\n",
    "    # After this block of code is executed, sentence_scores will contain the scores of each sentence in the given text, \n",
    "    # where each score is a sum of the frequency counts of its constituent words\n",
    "    \n",
    "    # empty dictionary to store the scores for each sentence\n",
    "    sentence_scores = {}\n",
    "    \n",
    "    for sentence in doc.sents:\n",
    "        sentence_words = [word.lower() for word in word_tokenize(str(sentence)) if word.lower() not in stop_words and word.isalnum()]\n",
    "        sentence_score = sum([word_freq[word] for word in sentence_words])\n",
    "        if len(sentence_words) < 20:\n",
    "            sentence_scores[sentence] = sentence_score\n",
    "    \n",
    "    # checks if the length of the sentence_words list is less than 20 (parameter can be adjusted based on the desired length of summary sentences)\n",
    "    # If condition -> true, score of the current sentence is added to the sentence_scores dictionary with the sentence itself as the key\n",
    "    # This is to filter out very short sentences that may not provide meaningful information for summary generation\n",
    "    \n",
    "    # Select the top n sentences with the highest scores\n",
    "    summary_sentences = sorted(sentence_scores, key=sentence_scores.get, reverse=True)[:n]\n",
    "    summary = ' '.join(str(s) for s in summary_sentences)\n",
    "    \n",
    "    return summary"
   ]
  },
  {
   "cell_type": "code",
   "execution_count": 120,
   "id": "4fd64f4d-7590-432a-b77d-dafb7d8cd0fa",
   "metadata": {},
   "outputs": [
    {
     "name": "stdout",
     "output_type": "stream",
     "text": [
      "Basically, when you lower the barrier to the work and add fast little dopamine rewards on the other side, like check boxes and trackers, it becomes irrational that you wouldn't sit down and do the work we. This looks like lowering the length of the work activity from 1 hour to 5 minutes, the less amount of work, the short of the wall. First, we need to find ways to make the wall smaller, which means you need less energy to start climbing. The fastest path to destroy procrastination is to make the work so convenient that it feels stupid not to do. One procrastination is kind of like a giant brick wall.\n"
     ]
    }
   ],
   "source": [
    "summary = generate_summary(maintext, 5)\n",
    "summary_sentences = summary.split('.')\n",
    "formatted_summary = '.\\n'.join(summary_sentences)\n",
    "\n",
    "print(summary)"
   ]
  }
 ],
 "metadata": {
  "kernelspec": {
   "display_name": "Python 3 (ipykernel)",
   "language": "python",
   "name": "python3"
  },
  "language_info": {
   "codemirror_mode": {
    "name": "ipython",
    "version": 3
   },
   "file_extension": ".py",
   "mimetype": "text/x-python",
   "name": "python",
   "nbconvert_exporter": "python",
   "pygments_lexer": "ipython3",
   "version": "3.11.7"
  }
 },
 "nbformat": 4,
 "nbformat_minor": 5
}
